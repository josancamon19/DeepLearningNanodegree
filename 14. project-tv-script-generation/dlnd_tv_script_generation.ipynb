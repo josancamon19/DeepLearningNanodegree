{
 "cells": [
  {
   "cell_type": "markdown",
   "metadata": {
    "colab_type": "text",
    "id": "4EkL_EqBx-Ou"
   },
   "source": [
    "# TV Script Generation\n",
    "\n",
    "In this project, you'll generate your own [Seinfeld](https://en.wikipedia.org/wiki/Seinfeld) TV scripts using RNNs.  You'll be using part of the [Seinfeld dataset](https://www.kaggle.com/thec03u5/seinfeld-chronicles#scripts.csv) of scripts from 9 seasons.  The Neural Network you'll build will generate a new ,\"fake\" TV script, based on patterns it recognizes in this training data.\n",
    "\n",
    "## Get the Data\n",
    "\n",
    "The data is already provided for you in `./data/Seinfeld_Scripts.txt` and you're encouraged to open that file and look at the text. \n",
    ">* As a first step, we'll load in this data and look at some samples. \n",
    "* Then, you'll be tasked with defining and training an RNN to generate a new script!"
   ]
  },
  {
   "cell_type": "code",
   "execution_count": 0,
   "metadata": {
    "colab": {},
    "colab_type": "code",
    "id": "HkgSjtLDx-Oy"
   },
   "outputs": [],
   "source": [
    "\"\"\"\n",
    "DON'T MODIFY ANYTHING IN THIS CELL\n",
    "\"\"\"\n",
    "# load in data\n",
    "import hpr as helper\n",
    "data_dir = 'Seinfeld_Scripts.txt'\n",
    "text = helper.load_data(data_dir)"
   ]
  },
  {
   "cell_type": "markdown",
   "metadata": {
    "colab_type": "text",
    "id": "ase6urxSx-O5"
   },
   "source": [
    "## Explore the Data\n",
    "Play around with `view_line_range` to view different parts of the data. This will give you a sense of the data you'll be working with. You can see, for example, that it is all lowercase text, and each new line of dialogue is separated by a newline character `\\n`."
   ]
  },
  {
   "cell_type": "code",
   "execution_count": 2,
   "metadata": {
    "colab": {
     "base_uri": "https://localhost:8080/",
     "height": 309
    },
    "colab_type": "code",
    "id": "YcndORf0x-O7",
    "outputId": "36761a52-0fd6-4842-8f2c-4a1f19a3b958"
   },
   "outputs": [
    {
     "name": "stdout",
     "output_type": "stream",
     "text": [
      "Dataset Stats\n",
      "Roughly the number of unique words: 46367\n",
      "Number of lines: 109233\n",
      "Average number of words in each line: 5.544240293684143\n",
      "\n",
      "The lines 0 to 10:\n",
      "jerry: do you know what this is all about? do you know, why were here? to be out, this is out...and out is one of the single most enjoyable experiences of life. people...did you ever hear people talking about we should go out? this is what theyre talking about...this whole thing, were all out now, no one is home. not one person here is home, were all out! there are people trying to find us, they dont know where we are. (on an imaginary phone) did you ring?, i cant find him. where did he go? he didnt tell me where he was going. he must have gone out. you wanna go out you get ready, you pick out the clothes, right? you take the shower, you get all ready, get the cash, get your friends, the car, the spot, the reservation...then youre standing around, what do you do? you go we gotta be getting back. once youre out, you wanna get back! you wanna go to sleep, you wanna get up, you wanna go out again tomorrow, right? where ever you are in life, its my feeling, youve gotta go. \n",
      "\n",
      "jerry: (pointing at georges shirt) see, to me, that button is in the worst possible spot. the second button literally makes or breaks the shirt, look at it. its too high! its in no-mans-land. you look like you live with your mother. \n",
      "\n",
      "george: are you through? \n",
      "\n",
      "jerry: you do of course try on, when you buy? \n",
      "\n",
      "george: yes, it was purple, i liked it, i dont actually recall considering the buttons. \n",
      "\n"
     ]
    }
   ],
   "source": [
    "view_line_range = (0, 10)\n",
    "\n",
    "\"\"\"\n",
    "DON'T MODIFY ANYTHING IN THIS CELL THAT IS BELOW THIS LINE\n",
    "\"\"\"\n",
    "import numpy as np\n",
    "\n",
    "print('Dataset Stats')\n",
    "print('Roughly the number of unique words: {}'.format(len({word: None for word in text.split()})))\n",
    "\n",
    "lines = text.split('\\n')\n",
    "print('Number of lines: {}'.format(len(lines)))\n",
    "word_count_line = [len(line.split()) for line in lines]\n",
    "print('Average number of words in each line: {}'.format(np.average(word_count_line)))\n",
    "\n",
    "print()\n",
    "print('The lines {} to {}:'.format(*view_line_range))\n",
    "print('\\n'.join(text.split('\\n')[view_line_range[0]:view_line_range[1]]))"
   ]
  },
  {
   "cell_type": "markdown",
   "metadata": {
    "colab_type": "text",
    "id": "vMcmYlvOx-PA"
   },
   "source": [
    "---\n",
    "## Implement Pre-processing Functions\n",
    "The first thing to do to any dataset is pre-processing.  Implement the following pre-processing functions below:\n",
    "- Lookup Table\n",
    "- Tokenize Punctuation\n",
    "\n",
    "### Lookup Table\n",
    "To create a word embedding, you first need to transform the words to ids.  In this function, create two dictionaries:\n",
    "- Dictionary to go from the words to an id, we'll call `vocab_to_int`\n",
    "- Dictionary to go from the id to word, we'll call `int_to_vocab`\n",
    "\n",
    "Return these dictionaries in the following **tuple** `(vocab_to_int, int_to_vocab)`"
   ]
  },
  {
   "cell_type": "code",
   "execution_count": 3,
   "metadata": {
    "colab": {
     "base_uri": "https://localhost:8080/",
     "height": 34
    },
    "colab_type": "code",
    "id": "1briU2nzx-PB",
    "outputId": "7eca1e74-0fc5-47ee-e9ff-a5f1ea4815e3"
   },
   "outputs": [
    {
     "name": "stdout",
     "output_type": "stream",
     "text": [
      "Tests Passed\n"
     ]
    }
   ],
   "source": [
    "import problem_unittests as tests\n",
    "from collections import Counter\n",
    "def create_lookup_tables(text):\n",
    "    \"\"\"\n",
    "    Create lookup tables for vocabulary\n",
    "    :param text: The text of tv scripts split into words\n",
    "    :return: A tuple of dicts (vocab_to_int, int_to_vocab)\n",
    "    \"\"\"\n",
    "    # TODO: Implement Function\n",
    "    # return tuple\n",
    "    word_counts = Counter(text)\n",
    "    # sorting the words from most to least frequent in text occurrence\n",
    "    sorted_vocab = sorted(word_counts, key=word_counts.get, reverse=True)\n",
    "    # create int_to_vocab dictionaries\n",
    "    int_to_vocab = {ii: word for ii, word in enumerate(sorted_vocab)}\n",
    "    vocab_to_int = {word: ii for ii, word in int_to_vocab.items()}\n",
    "\n",
    "    return vocab_to_int, int_to_vocab\n",
    "\n",
    "\n",
    "\"\"\"\n",
    "DON'T MODIFY ANYTHING IN THIS CELL THAT IS BELOW THIS LINE\n",
    "\"\"\"\n",
    "tests.test_create_lookup_tables(create_lookup_tables)"
   ]
  },
  {
   "cell_type": "markdown",
   "metadata": {
    "colab_type": "text",
    "id": "UovT5i_Px-PG"
   },
   "source": [
    "### Tokenize Punctuation\n",
    "We'll be splitting the script into a word array using spaces as delimiters.  However, punctuations like periods and exclamation marks can create multiple ids for the same word. For example, \"bye\" and \"bye!\" would generate two different word ids.\n",
    "\n",
    "Implement the function `token_lookup` to return a dict that will be used to tokenize symbols like \"!\" into \"||Exclamation_Mark||\".  Create a dictionary for the following symbols where the symbol is the key and value is the token:\n",
    "- Period ( **.** )\n",
    "- Comma ( **,** )\n",
    "- Quotation Mark ( **\"** )\n",
    "- Semicolon ( **;** )\n",
    "- Exclamation mark ( **!** )\n",
    "- Question mark ( **?** )\n",
    "- Left Parentheses ( **(** )\n",
    "- Right Parentheses ( **)** )\n",
    "- Dash ( **-** )\n",
    "- Return ( **\\n** )\n",
    "\n",
    "This dictionary will be used to tokenize the symbols and add the delimiter (space) around it.  This separates each symbols as its own word, making it easier for the neural network to predict the next word. Make sure you don't use a value that could be confused as a word; for example, instead of using the value \"dash\", try using something like \"||dash||\"."
   ]
  },
  {
   "cell_type": "code",
   "execution_count": 4,
   "metadata": {
    "colab": {
     "base_uri": "https://localhost:8080/",
     "height": 34
    },
    "colab_type": "code",
    "id": "VDt7J8p7x-PH",
    "outputId": "0efac115-88a6-4b8e-9c26-22fbb4e4e54c"
   },
   "outputs": [
    {
     "name": "stdout",
     "output_type": "stream",
     "text": [
      "Tests Passed\n"
     ]
    }
   ],
   "source": [
    "def token_lookup():\n",
    "    \"\"\"\n",
    "    Generate a dict to turn punctuation into a token.\n",
    "    :return: Tokenized dictionary where the key is the punctuation and the value is the token\n",
    "    \"\"\"\n",
    "   \n",
    "    # TODO: Implement Function\n",
    "    dictionary = {}\n",
    "    dictionary['.'] = '<PERIOD>'\n",
    "    dictionary[','] = '<COMMA>'\n",
    "    dictionary['\"'] = '<QUOTATION_MARK>'\n",
    "    dictionary[';'] = '<SEMICOLON>'\n",
    "    dictionary['!'] = '<EXCLAMATION_MARK>'\n",
    "    dictionary['?'] = '<QUESTION_MARK>'\n",
    "    dictionary[')'] = '<LEFT_PAREN>'\n",
    "    dictionary['('] = '<RIGHT_PAREN>'\n",
    "    dictionary['-'] = '<DASH>'\n",
    "    dictionary['\\n'] = '<RETURN>'\n",
    "    \n",
    "    return dictionary\n",
    "\n",
    "\"\"\"\n",
    "DON'T MODIFY ANYTHING IN THIS CELL THAT IS BELOW THIS LINE\n",
    "\"\"\"\n",
    "tests.test_tokenize(token_lookup)"
   ]
  },
  {
   "cell_type": "markdown",
   "metadata": {
    "colab_type": "text",
    "id": "R2yTY2LLx-PM"
   },
   "source": [
    "## Pre-process all the data and save it\n",
    "\n",
    "Running the code cell below will pre-process all the data and save it to file. You're encouraged to lok at the code for `preprocess_and_save_data` in the `helpers.py` file to see what it's doing in detail, but you do not need to change this code."
   ]
  },
  {
   "cell_type": "code",
   "execution_count": 0,
   "metadata": {
    "colab": {},
    "colab_type": "code",
    "id": "yLokR6EWx-PN"
   },
   "outputs": [],
   "source": [
    "\"\"\"\n",
    "DON'T MODIFY ANYTHING IN THIS CELL\n",
    "\"\"\"\n",
    "# pre-process training data\n",
    "helper.preprocess_and_save_data(data_dir, token_lookup, create_lookup_tables)"
   ]
  },
  {
   "cell_type": "markdown",
   "metadata": {
    "colab_type": "text",
    "id": "bVi2UczVx-PT"
   },
   "source": [
    "# Check Point\n",
    "This is your first checkpoint. If you ever decide to come back to this notebook or have to restart the notebook, you can start from here. The preprocessed data has been saved to disk."
   ]
  },
  {
   "cell_type": "code",
   "execution_count": 0,
   "metadata": {
    "colab": {},
    "colab_type": "code",
    "id": "q62C_kYRx-PW"
   },
   "outputs": [],
   "source": [
    "\"\"\"\n",
    "DON'T MODIFY ANYTHING IN THIS CELL\n",
    "\"\"\"\n",
    "import problem_unittests as tests\n",
    "\n",
    "int_text, vocab_to_int, int_to_vocab, token_dict = helper.load_preprocess()"
   ]
  },
  {
   "cell_type": "markdown",
   "metadata": {
    "colab_type": "text",
    "id": "ZpVsVqzHx-Pd"
   },
   "source": [
    "## Build the Neural Network\n",
    "In this section, you'll build the components necessary to build an RNN by implementing the RNN Module and forward and backpropagation functions.\n",
    "\n",
    "### Check Access to GPU"
   ]
  },
  {
   "cell_type": "code",
   "execution_count": 0,
   "metadata": {
    "colab": {},
    "colab_type": "code",
    "id": "xiU9-bnzx-Pg"
   },
   "outputs": [],
   "source": [
    "\"\"\"\n",
    "DON'T MODIFY ANYTHING IN THIS CELL\n",
    "\"\"\"\n",
    "import torch\n",
    "\n",
    "# Check for a GPU\n",
    "train_on_gpu = torch.cuda.is_available()\n",
    "if not train_on_gpu:\n",
    "    print('No GPU found. Please use a GPU to train your neural network.')"
   ]
  },
  {
   "cell_type": "markdown",
   "metadata": {
    "colab_type": "text",
    "id": "7ZHAL-h-x-Pk"
   },
   "source": [
    "## Input\n",
    "Let's start with the preprocessed input data. We'll use [TensorDataset](http://pytorch.org/docs/master/data.html#torch.utils.data.TensorDataset) to provide a known format to our dataset; in combination with [DataLoader](http://pytorch.org/docs/master/data.html#torch.utils.data.DataLoader), it will handle batching, shuffling, and other dataset iteration functions.\n",
    "\n",
    "You can create data with TensorDataset by passing in feature and target tensors. Then create a DataLoader as usual.\n",
    "```\n",
    "data = TensorDataset(feature_tensors, target_tensors)\n",
    "data_loader = torch.utils.data.DataLoader(data, \n",
    "                                          batch_size=batch_size)\n",
    "```\n",
    "\n",
    "### Batching\n",
    "Implement the `batch_data` function to batch `words` data into chunks of size `batch_size` using the `TensorDataset` and `DataLoader` classes.\n",
    "\n",
    ">You can batch words using the DataLoader, but it will be up to you to create `feature_tensors` and `target_tensors` of the correct size and content for a given `sequence_length`.\n",
    "\n",
    "For example, say we have these as input:\n",
    "```\n",
    "words = [1, 2, 3, 4, 5, 6, 7]\n",
    "sequence_length = 4\n",
    "```\n",
    "\n",
    "Your first `feature_tensor` should contain the values:\n",
    "```\n",
    "[1, 2, 3, 4]\n",
    "```\n",
    "And the corresponding `target_tensor` should just be the next \"word\"/tokenized word value:\n",
    "```\n",
    "5\n",
    "```\n",
    "This should continue with the second `feature_tensor`, `target_tensor` being:\n",
    "```\n",
    "[2, 3, 4, 5]  # features\n",
    "6             # target\n",
    "```"
   ]
  },
  {
   "cell_type": "code",
   "execution_count": 0,
   "metadata": {
    "colab": {},
    "colab_type": "code",
    "id": "eR47fICHx-Pm"
   },
   "outputs": [],
   "source": [
    "from torch.utils.data import TensorDataset, DataLoader\n",
    "import random\n",
    "\n",
    "def batch_data(words, sequence_length, batch_size):\n",
    "    \"\"\"\n",
    "    Batch the neural network data using DataLoader\n",
    "    :param words: The word ids of the TV scripts\n",
    "    :param sequence_length: The sequence length of each batch\n",
    "    :param batch_size: The size of each batch; the number of sequences in a batch\n",
    "    :return: DataLoader with batched data\n",
    "    \"\"\"\n",
    "    # TODO: Implement function\n",
    "    \n",
    "    n_batches = len(words)//batch_size\n",
    "    words = words[:n_batches*batch_size]\n",
    "    \n",
    "    # TODO: Implement function    \n",
    "    features, targets = [], []\n",
    "\n",
    "    for idx in range(0, (len(words) - sequence_length) ):\n",
    "        features.append(words[idx : idx + sequence_length])\n",
    "        targets.append(words[idx + sequence_length])   \n",
    " \n",
    "\n",
    "    data = TensorDataset(torch.from_numpy(np.asarray(features)), torch.from_numpy(np.asarray(targets)))\n",
    "    data_loader = torch.utils.data.DataLoader(data, shuffle=True , batch_size = batch_size)\n",
    "\n",
    "    # return a dataloader\n",
    "    return data_loader\n",
    "\n",
    "# there is no test for this function, but you are encouraged to create\n",
    "# print statements and tests of your own"
   ]
  },
  {
   "cell_type": "markdown",
   "metadata": {
    "colab_type": "text",
    "id": "_FhnYk6rx-Pr"
   },
   "source": [
    "### Test your dataloader \n",
    "\n",
    "You'll have to modify this code to test a batching function, but it should look fairly similar.\n",
    "\n",
    "Below, we're generating some test text data and defining a dataloader using the function you defined, above. Then, we are getting some sample batch of inputs `sample_x` and targets `sample_y` from our dataloader.\n",
    "\n",
    "Your code should return something like the following (likely in a different order, if you shuffled your data):\n",
    "\n",
    "```\n",
    "torch.Size([10, 5])\n",
    "tensor([[ 28,  29,  30,  31,  32],\n",
    "        [ 21,  22,  23,  24,  25],\n",
    "        [ 17,  18,  19,  20,  21],\n",
    "        [ 34,  35,  36,  37,  38],\n",
    "        [ 11,  12,  13,  14,  15],\n",
    "        [ 23,  24,  25,  26,  27],\n",
    "        [  6,   7,   8,   9,  10],\n",
    "        [ 38,  39,  40,  41,  42],\n",
    "        [ 25,  26,  27,  28,  29],\n",
    "        [  7,   8,   9,  10,  11]])\n",
    "\n",
    "torch.Size([10])\n",
    "tensor([ 33,  26,  22,  39,  16,  28,  11,  43,  30,  12])\n",
    "```\n",
    "\n",
    "### Sizes\n",
    "Your sample_x should be of size `(batch_size, sequence_length)` or (10, 5) in this case and sample_y should just have one dimension: batch_size (10). \n",
    "\n",
    "### Values\n",
    "\n",
    "You should also notice that the targets, sample_y, are the *next* value in the ordered test_text data. So, for an input sequence `[ 28,  29,  30,  31,  32]` that ends with the value `32`, the corresponding output should be `33`."
   ]
  },
  {
   "cell_type": "code",
   "execution_count": 9,
   "metadata": {
    "colab": {
     "base_uri": "https://localhost:8080/",
     "height": 255
    },
    "colab_type": "code",
    "id": "pIgc3atLx-Ps",
    "outputId": "db45e4cc-66a6-4bfd-ea91-9f3cd3ae03a2"
   },
   "outputs": [
    {
     "name": "stdout",
     "output_type": "stream",
     "text": [
      "torch.Size([10, 5])\n",
      "tensor([[25, 26, 27, 28, 29],\n",
      "        [ 6,  7,  8,  9, 10],\n",
      "        [44, 45, 46, 47, 48],\n",
      "        [23, 24, 25, 26, 27],\n",
      "        [26, 27, 28, 29, 30],\n",
      "        [24, 25, 26, 27, 28],\n",
      "        [37, 38, 39, 40, 41],\n",
      "        [ 5,  6,  7,  8,  9],\n",
      "        [ 1,  2,  3,  4,  5],\n",
      "        [34, 35, 36, 37, 38]])\n",
      "\n",
      "torch.Size([10])\n",
      "tensor([30, 11, 49, 28, 31, 29, 42, 10,  6, 39])\n"
     ]
    }
   ],
   "source": [
    "# test dataloader\n",
    "\n",
    "test_text = range(50)\n",
    "t_loader = batch_data(test_text, sequence_length=5, batch_size=10)\n",
    "\n",
    "data_iter = iter(t_loader)\n",
    "sample_x, sample_y = data_iter.next()\n",
    "\n",
    "print(sample_x.shape)\n",
    "print(sample_x)\n",
    "print()\n",
    "print(sample_y.shape)\n",
    "print(sample_y)"
   ]
  },
  {
   "cell_type": "markdown",
   "metadata": {
    "colab_type": "text",
    "id": "QoMvbY4qx-Pw"
   },
   "source": [
    "---\n",
    "## Build the Neural Network\n",
    "Implement an RNN using PyTorch's [Module class](http://pytorch.org/docs/master/nn.html#torch.nn.Module). You may choose to use a GRU or an LSTM. To complete the RNN, you'll have to implement the following functions for the class:\n",
    " - `__init__` - The initialize function. \n",
    " - `init_hidden` - The initialization function for an LSTM/GRU hidden state\n",
    " - `forward` - Forward propagation function.\n",
    " \n",
    "The initialize function should create the layers of the neural network and save them to the class. The forward propagation function will use these layers to run forward propagation and generate an output and a hidden state.\n",
    "\n",
    "**The output of this model should be the *last* batch of word scores** after a complete sequence has been processed. That is, for each input sequence of words, we only want to output the word scores for a single, most likely, next word.\n",
    "\n",
    "### Hints\n",
    "\n",
    "1. Make sure to stack the outputs of the lstm to pass to your fully-connected layer, you can do this with `lstm_output = lstm_output.contiguous().view(-1, self.hidden_dim)`\n",
    "2. You can get the last batch of word scores by shaping the output of the final, fully-connected layer like so:\n",
    "\n",
    "```\n",
    "# reshape into (batch_size, seq_length, output_size)\n",
    "output = output.view(batch_size, -1, self.output_size)\n",
    "# get last batch\n",
    "out = output[:, -1]\n",
    "```"
   ]
  },
  {
   "cell_type": "code",
   "execution_count": 10,
   "metadata": {
    "colab": {
     "base_uri": "https://localhost:8080/",
     "height": 51
    },
    "colab_type": "code",
    "id": "wdaoQ8PKx-Px",
    "outputId": "f1d96955-d9e5-4f7b-e5ec-a8a7ba0e36c1"
   },
   "outputs": [
    {
     "name": "stdout",
     "output_type": "stream",
     "text": [
      "torch.Size([50, 3])\n",
      "Tests Passed\n"
     ]
    }
   ],
   "source": [
    "import torch.nn as nn\n",
    "\n",
    "class RNN(nn.Module):\n",
    "    \n",
    "    def __init__(self, vocab_size, output_size, embedding_dim, hidden_dim, n_layers, dropout=0.5):\n",
    "        \"\"\"\n",
    "        Initialize the PyTorch RNN Module\n",
    "        :param vocab_size: The number of input dimensions of the neural network (the size of the vocabulary)\n",
    "        :param output_size: The number of output dimensions of the neural network\n",
    "        :param embedding_dim: The size of embeddings, should you choose to use them        \n",
    "        :param hidden_dim: The size of the hidden layer outputs\n",
    "        :param dropout: dropout to add in between LSTM/GRU layers\n",
    "        \"\"\"\n",
    "        super(RNN, self).__init__()\n",
    "        \n",
    "        # TODO: Implement function\n",
    "        \n",
    "        self.output_size = output_size\n",
    "        self.n_layers = n_layers\n",
    "        self.hidden_dim = hidden_dim\n",
    "        \n",
    "        # define model layers\n",
    "        self.embed = nn.Embedding(vocab_size,embedding_dim)\n",
    "        self.lstm = nn.LSTM(embedding_dim,hidden_dim,n_layers,dropout = dropout,batch_first = True)\n",
    "        self.fc1 = nn.Linear(hidden_dim, output_size)\n",
    "    \n",
    "    def forward(self, x, hidden):\n",
    "        \"\"\"\n",
    "        Forward propagation of the neural network\n",
    "        :param nn_input: The input to the neural network\n",
    "        :param hidden: The hidden state        \n",
    "        :return: Two Tensors, the output of the neural network and the latest hidden state\n",
    "        \"\"\"\n",
    "        #print('values received in forward')\n",
    "        #print(x[:3])\n",
    "        #print('vocab',self.vocab_size,'\\nembedding dim', self.embedding_dim,'\\nn layers', self.n_layers,'\\noutput',\n",
    "        #      self.output_size,'\\nhidden', self.hidden_dim)\n",
    "        \n",
    "        # TODO: Implement function \n",
    "        #print('initial shape', x.shape)\n",
    "        batchsize = x.size(0)\n",
    "        #print('the batchsize is', batchsize)\n",
    "        x = self.embed(x)\n",
    "        #print('shape then of embed:', x.shape)\n",
    "        x, hidden = self.lstm(x,hidden)\n",
    "        #print('shape then of lstm', x.shape)\n",
    "        x = x.contiguous().view(-1, self.hidden_dim)\n",
    "        #print('shape then of contiguos', x.shape)\n",
    "        x = self.fc1(x)\n",
    "        #print('shape then of fc1', x.shape)\n",
    "        \n",
    "        x = x.view(batchsize, -1, self.output_size)\n",
    "        #print('shape then of x.view', x.shape)\n",
    "        \n",
    "        x = x[:, -1]\n",
    "        #print('shape last x modification', x.shape)\n",
    "        \n",
    "        return x, hidden\n",
    "    \n",
    "    \n",
    "    def init_hidden(self, batch_size):\n",
    "        '''\n",
    "        Initialize the hidden state of an LSTM/GRU\n",
    "        :param batch_size: The batch_size of the hidden state\n",
    "        :return: hidden state of dims (n_layers, batch_size, hidden_dim)\n",
    "        '''\n",
    "        # Implement function\n",
    "        \n",
    "        weight = next(self.parameters()).data\n",
    "\n",
    "        if (train_on_gpu):\n",
    "            hidden = (weight.new(self.n_layers, batch_size, self.hidden_dim).zero_().cuda(),\n",
    "                  weight.new(self.n_layers, batch_size, self.hidden_dim).zero_().cuda())\n",
    "        else:\n",
    "            hidden = (weight.new(self.n_layers, batch_size, self.hidden_dim).zero_(),\n",
    "                      weight.new(self.n_layers, batch_size, self.hidden_dim).zero_())\n",
    "\n",
    "        return hidden\n",
    "\n",
    "\"\"\"\n",
    "DON'T MODIFY ANYTHING IN THIS CELL THAT IS BELOW THIS LINE\n",
    "\"\"\"\n",
    "tests.test_rnn(RNN, train_on_gpu)"
   ]
  },
  {
   "cell_type": "markdown",
   "metadata": {
    "colab_type": "text",
    "id": "fQavPFRAx-P1"
   },
   "source": [
    "### Define forward and backpropagation\n",
    "\n",
    "Use the RNN class you implemented to apply forward and back propagation. This function will be called, iteratively, in the training loop as follows:\n",
    "```\n",
    "loss = forward_back_prop(decoder, decoder_optimizer, criterion, inp, target)\n",
    "```\n",
    "\n",
    "And it should return the average loss over a batch and the hidden state returned by a call to `RNN(inp, hidden)`. Recall that you can get this loss by computing it, as usual, and calling `loss.item()`.\n",
    "\n",
    "**If a GPU is available, you should move your data to that GPU device, here.**"
   ]
  },
  {
   "cell_type": "code",
   "execution_count": 11,
   "metadata": {
    "colab": {
     "base_uri": "https://localhost:8080/",
     "height": 34
    },
    "colab_type": "code",
    "id": "wBmdTN1tx-P3",
    "outputId": "c457ca63-a4b6-4c8a-9163-ae4d895241ab"
   },
   "outputs": [
    {
     "name": "stdout",
     "output_type": "stream",
     "text": [
      "Tests Passed\n"
     ]
    }
   ],
   "source": [
    "def forward_back_prop(rnn, optimizer, criterion, inp, target, hidden):\n",
    "    \"\"\"\n",
    "    Forward and backward propagation on the neural network\n",
    "    :param decoder: The PyTorch Module that holds the neural network\n",
    "    :param decoder_optimizer: The PyTorch optimizer for the neural network\n",
    "    :param criterion: The PyTorch loss function\n",
    "    :param inp: A batch of input to the neural network\n",
    "    :param target: The target output for the batch of input\n",
    "    :return: The loss and the latest hidden state Tensor\n",
    "    \"\"\"\n",
    "    clip = 5\n",
    "    # TODO: Implement Function\n",
    "    # move data to GPU, if available\n",
    "    rnn.zero_grad()\n",
    "    if train_on_gpu:\n",
    "        inp,target = inp.cuda(), target.cuda()\n",
    "    h = tuple([each.data for each in hidden])\n",
    "    output, h = rnn(inp, h)\n",
    "    \n",
    "    # perform backpropagation and optimization\n",
    "    \n",
    "    loss = criterion(output,target)\n",
    "    loss.backward(retain_graph=True)\n",
    "    ret_loss = loss.item()\n",
    "    \n",
    "    nn.utils.clip_grad_norm_(rnn.parameters(), clip)\n",
    "    optimizer.step()\n",
    "\n",
    "    # return the loss over a batch and the hidden state produced by our model\n",
    "    return ret_loss, h\n",
    "\n",
    "# Note that these tests aren't completely extensive.\n",
    "# they are here to act as general checks on the expected outputs of your functions\n",
    "\"\"\"\n",
    "DON'T MODIFY ANYTHING IN THIS CELL THAT IS BELOW THIS LINE\n",
    "\"\"\"\n",
    "tests.test_forward_back_prop(RNN, forward_back_prop, train_on_gpu)"
   ]
  },
  {
   "cell_type": "markdown",
   "metadata": {
    "colab_type": "text",
    "id": "7zBVlR9dx-P8"
   },
   "source": [
    "## Neural Network Training\n",
    "\n",
    "With the structure of the network complete and data ready to be fed in the neural network, it's time to train it.\n",
    "\n",
    "### Train Loop\n",
    "\n",
    "The training loop is implemented for you in the `train_decoder` function. This function will train the network over all the batches for the number of epochs given. The model progress will be shown every number of batches. This number is set with the `show_every_n_batches` parameter. You'll set this parameter along with other parameters in the next section."
   ]
  },
  {
   "cell_type": "code",
   "execution_count": 0,
   "metadata": {
    "colab": {},
    "colab_type": "code",
    "id": "HhYz_KLQx-P9"
   },
   "outputs": [],
   "source": [
    "\"\"\"\n",
    "DON'T MODIFY ANYTHING IN THIS CELL\n",
    "\"\"\"\n",
    "\n",
    "def train_rnn(rnn, batch_size, optimizer, criterion, n_epochs, show_every_n_batches=100):\n",
    "    batch_losses = []\n",
    "    \n",
    "    rnn.train()\n",
    "\n",
    "    print(\"Training for %d epoch(s)...\" % n_epochs)\n",
    "    for epoch_i in range(1, n_epochs + 1):\n",
    "        \n",
    "        # initialize hidden state\n",
    "        hidden = rnn.init_hidden(batch_size)\n",
    "        \n",
    "        for batch_i, (inputs, labels) in enumerate(train_loader, 1):\n",
    "            \n",
    "            # make sure you iterate over completely full batches, only\n",
    "            n_batches = len(train_loader.dataset)//batch_size\n",
    "            if(batch_i > n_batches):\n",
    "                break\n",
    "            \n",
    "            # forward, back prop\n",
    "            loss, hidden = forward_back_prop(rnn, optimizer, criterion, inputs, labels, hidden)          \n",
    "            # record loss\n",
    "            batch_losses.append(loss)\n",
    "\n",
    "            # printing loss stats\n",
    "            if batch_i % show_every_n_batches == 0:\n",
    "                print('Epoch: {:>4}/{:<4}  Loss: {}\\n'.format(\n",
    "                    epoch_i, n_epochs, np.average(batch_losses)))\n",
    "                batch_losses = []\n",
    "\n",
    "    # returns a trained rnn\n",
    "    return rnn"
   ]
  },
  {
   "cell_type": "markdown",
   "metadata": {
    "colab_type": "text",
    "id": "Torb5NZbx-QC"
   },
   "source": [
    "### Hyperparameters\n",
    "\n",
    "Set and train the neural network with the following parameters:\n",
    "- Set `sequence_length` to the length of a sequence.\n",
    "- Set `batch_size` to the batch size.\n",
    "- Set `num_epochs` to the number of epochs to train for.\n",
    "- Set `learning_rate` to the learning rate for an Adam optimizer.\n",
    "- Set `vocab_size` to the number of unique tokens in our vocabulary.\n",
    "- Set `output_size` to the desired size of the output.\n",
    "- Set `embedding_dim` to the embedding dimension; smaller than the vocab_size.\n",
    "- Set `hidden_dim` to the hidden dimension of your RNN.\n",
    "- Set `n_layers` to the number of layers/cells in your RNN.\n",
    "- Set `show_every_n_batches` to the number of batches at which the neural network should print progress.\n",
    "\n",
    "If the network isn't getting the desired results, tweak these parameters and/or the layers in the `RNN` class."
   ]
  },
  {
   "cell_type": "code",
   "execution_count": 0,
   "metadata": {
    "colab": {},
    "colab_type": "code",
    "id": "5HK8zD1Hx-QE"
   },
   "outputs": [],
   "source": [
    "# Data params\n",
    "# Sequence Length\n",
    "sequence_length = 10  # of words in a sequence\n",
    "# Batch Size\n",
    "batch_size = 128\n",
    "\n",
    "# data loader - do not change\n",
    "train_loader = batch_data(int_text, sequence_length, batch_size)"
   ]
  },
  {
   "cell_type": "code",
   "execution_count": 0,
   "metadata": {
    "colab": {},
    "colab_type": "code",
    "id": "wGJi_Wmpx-QK"
   },
   "outputs": [],
   "source": [
    "# Training parameters\n",
    "# Number of Epochs\n",
    "num_epochs = 10\n",
    "# Learning Rate\n",
    "learning_rate = 0.001\n",
    "\n",
    "# Model parameters\n",
    "# Vocab size\n",
    "vocab_size = len(vocab_to_int) + 1\n",
    "# Output size\n",
    "output_size = vocab_size\n",
    "# Embedding Dimension\n",
    "embedding_dim = 300\n",
    "# Hidden Dimension\n",
    "hidden_dim = 400\n",
    "# Number of RNN Layers\n",
    "n_layers = 2\n",
    "\n",
    "# Show stats for every n number of batches\n",
    "show_every_n_batches = 500"
   ]
  },
  {
   "cell_type": "markdown",
   "metadata": {
    "colab_type": "text",
    "id": "CP79DIzox-QV"
   },
   "source": [
    "### Train\n",
    "In the next cell, you'll train the neural network on the pre-processed data.  If you have a hard time getting a good loss, you may consider changing your hyperparameters. In general, you may get better results with larger hidden and n_layer dimensions, but larger models take a longer time to train. \n",
    "> **You should aim for a loss less than 3.5.** \n",
    "\n",
    "You should also experiment with different sequence lengths, which determine the size of the long range dependencies that a model can learn."
   ]
  },
  {
   "cell_type": "code",
   "execution_count": 15,
   "metadata": {
    "colab": {
     "base_uri": "https://localhost:8080/",
     "height": 4610
    },
    "colab_type": "code",
    "id": "HitbNr0Xx-QY",
    "outputId": "ffc90cf0-0fee-4e11-a7bd-640b0ec13be8"
   },
   "outputs": [
    {
     "name": "stdout",
     "output_type": "stream",
     "text": [
      "RNN(\n",
      "  (embed): Embedding(21389, 300)\n",
      "  (lstm): LSTM(300, 400, num_layers=2, batch_first=True, dropout=0.5)\n",
      "  (fc1): Linear(in_features=400, out_features=21389, bias=True)\n",
      ")\n",
      "Training for 10 epoch(s)...\n",
      "Epoch:    1/10    Loss: 5.3987497401237485\n",
      "\n",
      "Epoch:    1/10    Loss: 4.78247220993042\n",
      "\n",
      "Epoch:    1/10    Loss: 4.590057759284973\n",
      "\n",
      "Epoch:    1/10    Loss: 4.459235553741455\n",
      "\n",
      "Epoch:    1/10    Loss: 4.382707640171051\n",
      "\n",
      "Epoch:    1/10    Loss: 4.32948294210434\n",
      "\n",
      "Epoch:    1/10    Loss: 4.259811786174774\n",
      "\n",
      "Epoch:    1/10    Loss: 4.228641007900238\n",
      "\n",
      "Epoch:    1/10    Loss: 4.175593636989594\n",
      "\n",
      "Epoch:    1/10    Loss: 4.145904089450836\n",
      "\n",
      "Epoch:    1/10    Loss: 4.136914940357208\n",
      "\n",
      "Epoch:    1/10    Loss: 4.103533217906952\n",
      "\n",
      "Epoch:    1/10    Loss: 4.086017001628876\n",
      "\n",
      "Epoch:    2/10    Loss: 3.972342859122379\n",
      "\n",
      "Epoch:    2/10    Loss: 3.9158754954338075\n",
      "\n",
      "Epoch:    2/10    Loss: 3.894933913707733\n",
      "\n",
      "Epoch:    2/10    Loss: 3.882731578350067\n",
      "\n",
      "Epoch:    2/10    Loss: 3.8637691168785095\n",
      "\n",
      "Epoch:    2/10    Loss: 3.858819712638855\n",
      "\n",
      "Epoch:    2/10    Loss: 3.854140830516815\n",
      "\n",
      "Epoch:    2/10    Loss: 3.8796915135383605\n",
      "\n",
      "Epoch:    2/10    Loss: 3.8505120873451233\n",
      "\n",
      "Epoch:    2/10    Loss: 3.8534109172821043\n",
      "\n",
      "Epoch:    2/10    Loss: 3.85306259059906\n",
      "\n",
      "Epoch:    2/10    Loss: 3.807266897201538\n",
      "\n",
      "Epoch:    2/10    Loss: 3.850001751422882\n",
      "\n",
      "Epoch:    3/10    Loss: 3.751781703519427\n",
      "\n",
      "Epoch:    3/10    Loss: 3.6463560733795166\n",
      "\n",
      "Epoch:    3/10    Loss: 3.657068655014038\n",
      "\n",
      "Epoch:    3/10    Loss: 3.636135579109192\n",
      "\n",
      "Epoch:    3/10    Loss: 3.6711794939041136\n",
      "\n",
      "Epoch:    3/10    Loss: 3.6836611351966857\n",
      "\n",
      "Epoch:    3/10    Loss: 3.6526121578216553\n",
      "\n",
      "Epoch:    3/10    Loss: 3.6714646344184874\n",
      "\n",
      "Epoch:    3/10    Loss: 3.672670852661133\n",
      "\n",
      "Epoch:    3/10    Loss: 3.6830331482887266\n",
      "\n",
      "Epoch:    3/10    Loss: 3.6856824827194212\n",
      "\n",
      "Epoch:    3/10    Loss: 3.6811412453651426\n",
      "\n",
      "Epoch:    3/10    Loss: 3.678528476715088\n",
      "\n",
      "Epoch:    4/10    Loss: 3.6033225975745964\n",
      "\n",
      "Epoch:    4/10    Loss: 3.4984858746528626\n",
      "\n",
      "Epoch:    4/10    Loss: 3.494905770301819\n",
      "\n",
      "Epoch:    4/10    Loss: 3.5228877835273744\n",
      "\n",
      "Epoch:    4/10    Loss: 3.511205215930939\n",
      "\n",
      "Epoch:    4/10    Loss: 3.540905782699585\n",
      "\n",
      "Epoch:    4/10    Loss: 3.5289605731964113\n",
      "\n",
      "Epoch:    4/10    Loss: 3.556828733921051\n",
      "\n",
      "Epoch:    4/10    Loss: 3.56109237909317\n",
      "\n",
      "Epoch:    4/10    Loss: 3.5451990389823913\n",
      "\n",
      "Epoch:    4/10    Loss: 3.564314628124237\n",
      "\n",
      "Epoch:    4/10    Loss: 3.5649033880233763\n",
      "\n",
      "Epoch:    4/10    Loss: 3.565774558067322\n",
      "\n",
      "Epoch:    5/10    Loss: 3.477962240207294\n",
      "\n",
      "Epoch:    5/10    Loss: 3.401586102485657\n",
      "\n",
      "Epoch:    5/10    Loss: 3.4137552223205567\n",
      "\n",
      "Epoch:    5/10    Loss: 3.3967238149642944\n",
      "\n",
      "Epoch:    5/10    Loss: 3.417562861442566\n",
      "\n",
      "Epoch:    5/10    Loss: 3.443558811187744\n",
      "\n",
      "Epoch:    5/10    Loss: 3.4380426082611084\n",
      "\n",
      "Epoch:    5/10    Loss: 3.439096848487854\n",
      "\n",
      "Epoch:    5/10    Loss: 3.436228422164917\n",
      "\n",
      "Epoch:    5/10    Loss: 3.458245943546295\n",
      "\n",
      "Epoch:    5/10    Loss: 3.464111175060272\n",
      "\n",
      "Epoch:    5/10    Loss: 3.4700201873779295\n",
      "\n",
      "Epoch:    5/10    Loss: 3.4841700453758238\n",
      "\n",
      "Epoch:    6/10    Loss: 3.3894195795551805\n",
      "\n",
      "Epoch:    6/10    Loss: 3.303453182697296\n",
      "\n",
      "Epoch:    6/10    Loss: 3.2982175130844116\n",
      "\n",
      "Epoch:    6/10    Loss: 3.311351897239685\n",
      "\n",
      "Epoch:    6/10    Loss: 3.341373659133911\n",
      "\n",
      "Epoch:    6/10    Loss: 3.3560133857727052\n",
      "\n",
      "Epoch:    6/10    Loss: 3.3588567028045655\n",
      "\n",
      "Epoch:    6/10    Loss: 3.3727388963699343\n",
      "\n",
      "Epoch:    6/10    Loss: 3.3832325711250304\n",
      "\n",
      "Epoch:    6/10    Loss: 3.3828420820236205\n",
      "\n",
      "Epoch:    6/10    Loss: 3.3983783898353574\n",
      "\n",
      "Epoch:    6/10    Loss: 3.409787289619446\n",
      "\n",
      "Epoch:    6/10    Loss: 3.4206721477508544\n",
      "\n",
      "Epoch:    7/10    Loss: 3.3120096774140664\n",
      "\n",
      "Epoch:    7/10    Loss: 3.230348217487335\n",
      "\n",
      "Epoch:    7/10    Loss: 3.2553609108924864\n",
      "\n",
      "Epoch:    7/10    Loss: 3.2444599051475524\n",
      "\n",
      "Epoch:    7/10    Loss: 3.2656503348350525\n",
      "\n",
      "Epoch:    7/10    Loss: 3.2695623092651367\n",
      "\n",
      "Epoch:    7/10    Loss: 3.311157970905304\n",
      "\n",
      "Epoch:    7/10    Loss: 3.300515016078949\n",
      "\n",
      "Epoch:    7/10    Loss: 3.307232349872589\n",
      "\n",
      "Epoch:    7/10    Loss: 3.332498299598694\n",
      "\n",
      "Epoch:    7/10    Loss: 3.3373647441864014\n",
      "\n",
      "Epoch:    7/10    Loss: 3.338816687583923\n",
      "\n",
      "Epoch:    7/10    Loss: 3.356142689704895\n",
      "\n",
      "Epoch:    8/10    Loss: 3.2636140427313562\n",
      "\n",
      "Epoch:    8/10    Loss: 3.1665175189971926\n",
      "\n",
      "Epoch:    8/10    Loss: 3.172569606304169\n",
      "\n",
      "Epoch:    8/10    Loss: 3.2184931235313416\n",
      "\n",
      "Epoch:    8/10    Loss: 3.2083217153549195\n",
      "\n",
      "Epoch:    8/10    Loss: 3.231115233898163\n",
      "\n",
      "Epoch:    8/10    Loss: 3.251573923587799\n",
      "\n",
      "Epoch:    8/10    Loss: 3.2506005268096922\n",
      "\n",
      "Epoch:    8/10    Loss: 3.242660952091217\n",
      "\n",
      "Epoch:    8/10    Loss: 3.243699857711792\n",
      "\n",
      "Epoch:    8/10    Loss: 3.2765439438819883\n",
      "\n",
      "Epoch:    8/10    Loss: 3.296030059814453\n",
      "\n",
      "Epoch:    8/10    Loss: 3.290870925426483\n",
      "\n",
      "Epoch:    9/10    Loss: 3.2132778177576617\n",
      "\n",
      "Epoch:    9/10    Loss: 3.122891161441803\n",
      "\n",
      "Epoch:    9/10    Loss: 3.129397988319397\n",
      "\n",
      "Epoch:    9/10    Loss: 3.1331391530036927\n",
      "\n",
      "Epoch:    9/10    Loss: 3.1360961508750917\n",
      "\n",
      "Epoch:    9/10    Loss: 3.189592429637909\n",
      "\n",
      "Epoch:    9/10    Loss: 3.1992551937103273\n",
      "\n",
      "Epoch:    9/10    Loss: 3.194338331699371\n",
      "\n",
      "Epoch:    9/10    Loss: 3.2158328132629395\n",
      "\n",
      "Epoch:    9/10    Loss: 3.2096262092590333\n",
      "\n",
      "Epoch:    9/10    Loss: 3.227194033622742\n",
      "\n",
      "Epoch:    9/10    Loss: 3.2544961252212525\n",
      "\n",
      "Epoch:    9/10    Loss: 3.2737725381851197\n",
      "\n",
      "Epoch:   10/10    Loss: 3.156824599859143\n",
      "\n",
      "Epoch:   10/10    Loss: 3.086143981933594\n",
      "\n",
      "Epoch:   10/10    Loss: 3.099299443721771\n",
      "\n",
      "Epoch:   10/10    Loss: 3.1184528398513796\n",
      "\n",
      "Epoch:   10/10    Loss: 3.125011146068573\n",
      "\n",
      "Epoch:   10/10    Loss: 3.14096070766449\n",
      "\n",
      "Epoch:   10/10    Loss: 3.141774049758911\n",
      "\n",
      "Epoch:   10/10    Loss: 3.1724321389198304\n",
      "\n",
      "Epoch:   10/10    Loss: 3.1697975869178774\n",
      "\n",
      "Epoch:   10/10    Loss: 3.174335855960846\n",
      "\n",
      "Epoch:   10/10    Loss: 3.1845142493247987\n",
      "\n",
      "Epoch:   10/10    Loss: 3.2057224535942077\n",
      "\n",
      "Epoch:   10/10    Loss: 3.2316446371078493\n",
      "\n",
      "Model Trained and Saved\n"
     ]
    },
    {
     "name": "stderr",
     "output_type": "stream",
     "text": [
      "/usr/local/lib/python3.6/dist-packages/torch/serialization.py:250: UserWarning: Couldn't retrieve source code for container of type RNN. It won't be checked for correctness upon loading.\n",
      "  \"type \" + obj.__name__ + \". It won't be checked \"\n"
     ]
    }
   ],
   "source": [
    "\"\"\"\n",
    "DON'T MODIFY ANYTHING IN THIS CELL\n",
    "\"\"\"\n",
    "\n",
    "# create model and move to gpu if available\n",
    "rnn = RNN(vocab_size, output_size, embedding_dim, hidden_dim, n_layers, dropout=0.5)\n",
    "if train_on_gpu:\n",
    "    rnn.cuda()\n",
    "print(rnn)\n",
    "\n",
    "# defining loss and optimization functions for training\n",
    "optimizer = torch.optim.Adam(rnn.parameters(), lr=learning_rate)\n",
    "criterion = nn.CrossEntropyLoss()\n",
    "\n",
    "# training the model\n",
    "trained_rnn = train_rnn(rnn, batch_size, optimizer, criterion, num_epochs, show_every_n_batches)\n",
    "\n",
    "# saving the trained model\n",
    "helper.save_model('./save/trained_rnn', trained_rnn)\n",
    "print('Model Trained and Saved')"
   ]
  },
  {
   "cell_type": "markdown",
   "metadata": {
    "colab_type": "text",
    "id": "X1_RRQasx-Qc"
   },
   "source": [
    "### Question: How did you decide on your model hyperparameters? \n",
    "For example, did you try different sequence_lengths and find that one size made the model converge faster? What about your hidden_dim and n_layers; how did you decide on those?"
   ]
  },
  {
   "cell_type": "markdown",
   "metadata": {
    "colab_type": "text",
    "id": "nBBP8yphx-Qd"
   },
   "source": [
    "**Answer:** \n",
    "* **n_layers**: I used 2 and 3 due to the data which we are working is relatively big.\n",
    "* **seq_length **:  I put 10 as seq length because each sentence in the dialog is between 5 and 25 words and in this way the model can perform better than with a value out of the range.\n",
    "* **batch_size**: 128 as batch size resulted pretty convenient for good results and additionally give us a fast convergence\n",
    "* **hidden_dim**: this value gave me very interesting results, each time I increase it more and more, is faster get less than 3.5 taking into account epochs, but each epoch takes a lot more. But then of then of getting a loss less than 3.5 the model starts to overfit and reduce the loss more starts to become pretty difficult. I used this value due to the realtion between speed and results.\n",
    "* **embedding_size**: the range of this value is from 200 to 600, so I put a number between this range.\n"
   ]
  },
  {
   "cell_type": "markdown",
   "metadata": {
    "colab_type": "text",
    "id": "4LAA7yQox-Qf"
   },
   "source": [
    "---\n",
    "# Checkpoint\n",
    "\n",
    "After running the above training cell, your model will be saved by name, `trained_rnn`, and if you save your notebook progress, **you can pause here and come back to this code at another time**. You can resume your progress by running the next cell, which will load in our word:id dictionaries _and_ load in your saved model by name!"
   ]
  },
  {
   "cell_type": "code",
   "execution_count": 0,
   "metadata": {
    "colab": {},
    "colab_type": "code",
    "id": "oSWzwM0-x-Qg"
   },
   "outputs": [],
   "source": [
    "\"\"\"\n",
    "DON'T MODIFY ANYTHING IN THIS CELL\n",
    "\"\"\"\n",
    "import torch\n",
    "import hpr as helper\n",
    "import problem_unittests as tests\n",
    "\n",
    "_, vocab_to_int, int_to_vocab, token_dict = helper.load_preprocess()\n",
    "trained_rnn = helper.load_model('./save/trained_rnn')"
   ]
  },
  {
   "cell_type": "markdown",
   "metadata": {
    "colab_type": "text",
    "id": "6hL8eAU3x-Qk"
   },
   "source": [
    "## Generate TV Script\n",
    "With the network trained and saved, you'll use it to generate a new, \"fake\" Seinfeld TV script in this section.\n",
    "\n",
    "### Generate Text\n",
    "To generate the text, the network needs to start with a single word and repeat its predictions until it reaches a set length. You'll be using the `generate` function to do this. It takes a word id to start with, `prime_id`, and generates a set length of text, `predict_len`. Also note that it uses topk sampling to introduce some randomness in choosing the most likely next word, given an output set of word scores!"
   ]
  },
  {
   "cell_type": "code",
   "execution_count": 0,
   "metadata": {
    "colab": {},
    "colab_type": "code",
    "id": "iaTJQSa2x-Qm"
   },
   "outputs": [],
   "source": [
    "\"\"\"\n",
    "DON'T MODIFY ANYTHING IN THIS CELL THAT IS BELOW THIS LINE\n",
    "\"\"\"\n",
    "import torch.nn.functional as F\n",
    "\n",
    "def generate(rnn, prime_id, int_to_vocab, token_dict, pad_value, predict_len=100):\n",
    "    \"\"\"\n",
    "    Generate text using the neural network\n",
    "    :param decoder: The PyTorch Module that holds the trained neural network\n",
    "    :param prime_id: The word id to start the first prediction\n",
    "    :param int_to_vocab: Dict of word id keys to word values\n",
    "    :param token_dict: Dict of puncuation tokens keys to puncuation values\n",
    "    :param pad_value: The value used to pad a sequence\n",
    "    :param predict_len: The length of text to generate\n",
    "    :return: The generated text\n",
    "    \"\"\"\n",
    "    rnn.eval()\n",
    "    \n",
    "    # create a sequence (batch_size=1) with the prime_id\n",
    "    current_seq = np.full((1, sequence_length), pad_value)\n",
    "    current_seq[-1][-1] = prime_id\n",
    "    predicted = [int_to_vocab[prime_id]]\n",
    "    \n",
    "    for _ in range(predict_len):\n",
    "        if train_on_gpu:\n",
    "            current_seq = torch.LongTensor(current_seq).cuda()\n",
    "        else:\n",
    "            current_seq = torch.LongTensor(current_seq)\n",
    "        \n",
    "        # initialize the hidden state\n",
    "        hidden = rnn.init_hidden(current_seq.size(0))\n",
    "        \n",
    "        # get the output of the rnn\n",
    "        output, _ = rnn(current_seq, hidden)\n",
    "        \n",
    "        # get the next word probabilities\n",
    "        p = F.softmax(output, dim=1).data\n",
    "        if(train_on_gpu):\n",
    "            p = p.cpu() # move to cpu\n",
    "         \n",
    "        # use top_k sampling to get the index of the next word\n",
    "        top_k = 5\n",
    "        p, top_i = p.topk(top_k)\n",
    "        top_i = top_i.numpy().squeeze()\n",
    "        \n",
    "        # select the likely next word index with some element of randomness\n",
    "        p = p.numpy().squeeze()\n",
    "        word_i = np.random.choice(top_i, p=p/p.sum())\n",
    "        \n",
    "        # retrieve that word from the dictionary\n",
    "        word = int_to_vocab[word_i]\n",
    "        predicted.append(word)     \n",
    "        current_seq = current_seq.cpu()\n",
    "        current_seq = torch.LongTensor(current_seq)\n",
    "        # the generated word becomes the next \"current sequence\" and the cycle can continue\n",
    "        current_seq = np.roll(current_seq, -1, 1)\n",
    "        current_seq[-1][-1] = word_i\n",
    "    \n",
    "    gen_sentences = ' '.join(predicted)\n",
    "    \n",
    "    # Replace punctuation tokens\n",
    "    for key, token in token_dict.items():\n",
    "        ending = ' ' if key in ['\\n', '(', '\"'] else ''\n",
    "        gen_sentences = gen_sentences.replace(' ' + token.lower(), key)\n",
    "    gen_sentences = gen_sentences.replace('\\n ', '\\n')\n",
    "    gen_sentences = gen_sentences.replace('( ', '(')\n",
    "    \n",
    "    # return all the sentences\n",
    "    return gen_sentences"
   ]
  },
  {
   "cell_type": "markdown",
   "metadata": {
    "colab_type": "text",
    "id": "rtExE8DKx-Qs"
   },
   "source": [
    "### Generate a New Script\n",
    "It's time to generate the text. Set `gen_length` to the length of TV script you want to generate and set `prime_word` to one of the following to start the prediction:\n",
    "- \"jerry\"\n",
    "- \"elaine\"\n",
    "- \"george\"\n",
    "- \"kramer\"\n",
    "\n",
    "You can set the prime word to _any word_ in our dictionary, but it's best to start with a name for generating a TV script. (You can also start with any other names you find in the original text file!)"
   ]
  },
  {
   "cell_type": "code",
   "execution_count": 18,
   "metadata": {
    "colab": {
     "base_uri": "https://localhost:8080/",
     "height": 1074
    },
    "colab_type": "code",
    "id": "Sv7nq1C1x-Qt",
    "outputId": "edab0408-46c5-4185-b136-9862b57181b6"
   },
   "outputs": [
    {
     "name": "stdout",
     "output_type": "stream",
     "text": [
      "jerry: willing to see her again, and then they go out and talk to him about the other day.\n",
      "\n",
      "elaine: i don't think so.\n",
      "\n",
      "elaine:(pause) what is that?\n",
      "\n",
      "jerry: well, i don't know. i know. i was thinking of this guy.\n",
      "\n",
      "kramer: hey. hey, you know.(listens) yeah, i don't know what the hell is going on, you know. i mean, i think i could be going to the bathroom.\n",
      "\n",
      "jerry: i don't want to see you.\n",
      "\n",
      "jerry: you know what?\n",
      "\n",
      "george: i think you can do it!\n",
      "\n",
      "elaine:(to george) oh..(laughs)\n",
      "\n",
      "jerry: what about the velvet fog?\n",
      "\n",
      "jerry: no, no no, no, no, you don't want to go.. i don't even know if i was a kid.\n",
      "\n",
      "george: you know, we can get going to see each other.\n",
      "\n",
      "elaine:(smiling) oh, hi, hi, hi.\n",
      "\n",
      "kramer: oh hi patty.\n",
      "\n",
      "jerry: hey.\n",
      "\n",
      "jerry: hi.\n",
      "\n",
      "jerry: hey, i saw the car!\n",
      "\n",
      "jerry: i know!\n",
      "\n",
      "elaine: what are you talking about?\n",
      "\n",
      "elaine: what, what is it?\n",
      "\n",
      "kramer: i don't want you to know.\n",
      "\n",
      "george:(to elaine) hey, you got a little more careful in the car.\n",
      "\n",
      "elaine: you don't know, you don't want me to do anything.\n",
      "\n",
      "elaine:(to elaine) i was just trying to get a little break on that thing!\n",
      "\n",
      "elaine:(pleading) well, i'm not going to see if there's anything else about this.\n",
      "\n",
      "jerry: you don't want to see it?\n",
      "\n",
      "jerry: no, i didn't.\n",
      "\n",
      "kramer: oh, yeah, i think i should go.\n",
      "\n",
      "george: well, what about the kiss?\n",
      "\n",
      "kramer: i think you should see that.\n",
      "\n",
      "kramer: well, it's like a sauna\n"
     ]
    }
   ],
   "source": [
    "# run the cell multiple times to get different results!\n",
    "gen_length = 400 # modify the length to your preference\n",
    "prime_word = 'jerry' # name for starting the script\n",
    "\n",
    "\"\"\"\n",
    "DON'T MODIFY ANYTHING IN THIS CELL THAT IS BELOW THIS LINE\n",
    "\"\"\"\n",
    "pad_word = helper.SPECIAL_WORDS['PADDING']\n",
    "generated_script = generate(trained_rnn, vocab_to_int[prime_word + ':'], int_to_vocab, token_dict, vocab_to_int[pad_word], gen_length)\n",
    "print(generated_script)"
   ]
  },
  {
   "cell_type": "markdown",
   "metadata": {
    "colab_type": "text",
    "id": "GUdivHwKx-Qw"
   },
   "source": [
    "#### Save your favorite scripts\n",
    "\n",
    "Once you have a script that you like (or find interesting), save it to a text file!"
   ]
  },
  {
   "cell_type": "code",
   "execution_count": 0,
   "metadata": {
    "colab": {},
    "colab_type": "code",
    "id": "LXmnRPNCx-Qy"
   },
   "outputs": [],
   "source": [
    "# save script to a text file\n",
    "f =  open(\"generated_script_1.txt\",\"w\")\n",
    "f.write(generated_script)\n",
    "f.close()"
   ]
  },
  {
   "cell_type": "markdown",
   "metadata": {
    "colab_type": "text",
    "id": "oEz1c9bux-Q7"
   },
   "source": [
    "# The TV Script is Not Perfect\n",
    "It's ok if the TV script doesn't make perfect sense. It should look like alternating lines of dialogue, here is one such example of a few generated lines.\n",
    "\n",
    "### Example generated script\n",
    "\n",
    ">jerry: what about me?\n",
    ">\n",
    ">jerry: i don't have to wait.\n",
    ">\n",
    ">kramer:(to the sales table)\n",
    ">\n",
    ">elaine:(to jerry) hey, look at this, i'm a good doctor.\n",
    ">\n",
    ">newman:(to elaine) you think i have no idea of this...\n",
    ">\n",
    ">elaine: oh, you better take the phone, and he was a little nervous.\n",
    ">\n",
    ">kramer:(to the phone) hey, hey, jerry, i don't want to be a little bit.(to kramer and jerry) you can't.\n",
    ">\n",
    ">jerry: oh, yeah. i don't even know, i know.\n",
    ">\n",
    ">jerry:(to the phone) oh, i know.\n",
    ">\n",
    ">kramer:(laughing) you know...(to jerry) you don't know.\n",
    "\n",
    "You can see that there are multiple characters that say (somewhat) complete sentences, but it doesn't have to be perfect! It takes quite a while to get good results, and often, you'll have to use a smaller vocabulary (and discard uncommon words), or get more data.  The Seinfeld dataset is about 3.4 MB, which is big enough for our purposes; for script generation you'll want more than 1 MB of text, generally. \n",
    "\n",
    "# Submitting This Project\n",
    "When submitting this project, make sure to run all the cells before saving the notebook. Save the notebook file as \"dlnd_tv_script_generation.ipynb\" and save another copy as an HTML file by clicking \"File\" -> \"Download as..\"->\"html\". Include the \"helper.py\" and \"problem_unittests.py\" files in your submission. Once you download these files, compress them into one zip file for submission."
   ]
  },
  {
   "cell_type": "code",
   "execution_count": 0,
   "metadata": {
    "colab": {},
    "colab_type": "code",
    "id": "ux8oiXhwx-RB"
   },
   "outputs": [],
   "source": []
  }
 ],
 "metadata": {
  "accelerator": "GPU",
  "colab": {
   "collapsed_sections": [],
   "name": "Copy of dlnd_tv_script_generation.ipynb",
   "provenance": [],
   "toc_visible": true,
   "version": "0.3.2"
  },
  "kernelspec": {
   "display_name": "Python 3",
   "language": "python",
   "name": "python3"
  },
  "language_info": {
   "codemirror_mode": {
    "name": "ipython",
    "version": 3
   },
   "file_extension": ".py",
   "mimetype": "text/x-python",
   "name": "python",
   "nbconvert_exporter": "python",
   "pygments_lexer": "ipython3",
   "version": "3.6.5"
  }
 },
 "nbformat": 4,
 "nbformat_minor": 1
}
